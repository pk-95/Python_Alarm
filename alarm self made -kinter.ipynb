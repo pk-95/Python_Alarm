{
 "cells": [
  {
   "cell_type": "code",
   "execution_count": 1,
   "metadata": {},
   "outputs": [
    {
     "name": "stdout",
     "output_type": "stream",
     "text": [
      "pygame 1.9.6\n",
      "Hello from the pygame community. https://www.pygame.org/contribute.html\n"
     ]
    }
   ],
   "source": [
    "from pygame import mixer as mx\n",
    "import time\n",
    "from time import localtime\n",
    "from tkinter import *\n",
    "from tkinter import ttk"
   ]
  },
  {
   "cell_type": "code",
   "execution_count": null,
   "metadata": {},
   "outputs": [],
   "source": []
  },
  {
   "cell_type": "code",
   "execution_count": null,
   "metadata": {},
   "outputs": [
    {
     "name": "stdout",
     "output_type": "stream",
     "text": [
      "Enter the number of alarms you want to create:\n",
      "2\n",
      "\n",
      "Enter time in 24 hour format\n",
      "For alarm  1\n"
     ]
    }
   ],
   "source": [
    "def alarm():\n",
    "    mx.init()\n",
    "    mx.music.load('Tame Impala.mp3')\n",
    "    f=open('alarms.txt','r+')\n",
    "    n=eval(input(\"Enter the number of alarms you want to create:\\n\"))\n",
    "    print(\"\\nEnter time in 24 hour format\")\n",
    "    for i in  range(n):\n",
    "        print(\"For alarm \",i+1)\n",
    "        h=input(\"Enter hours: \")\n",
    "        m=input(\"Enter mins: \")\n",
    "        s=input(\"Enter seconds: \")\n",
    "        p=str([h,m,s])\n",
    "        f.write(p+\"\\n\")\n",
    "    f.close()\n",
    "    f=open('alarms.txt','r')\n",
    "    x=f.readlines()\n",
    "    e=[]\n",
    "    for g in x:\n",
    "        k=[]\n",
    "        d=eval(g)\n",
    "        for i in d:\n",
    "            i=int(i)\n",
    "            k.append(i)\n",
    "        e.append(k)\n",
    "    while True:\n",
    "        time_now = [localtime().tm_hour,localtime().tm_min,localtime().tm_sec]\n",
    "        if time_now in e:\n",
    "             mx.music.play()\n",
    "             print(\"ALARM IS RINGING\\n\"*8)\n",
    "             time.sleep(30)\n",
    "             mx.music.stop()\n",
    "             break\n",
    "        \n",
    "    f.close()\n",
    "alarm()"
   ]
  },
  {
   "cell_type": "code",
   "execution_count": null,
   "metadata": {},
   "outputs": [],
   "source": [
    "tk = Tk()\n",
    "\n",
    "tk.title('Alarm clock')\n",
    "tk.geometry('800x600')\n",
    "tk.configure(background='black')\n",
    "Label(tk, text='Enter no of alarms: ',font='Helvetica 16',bg='red').place(x=20,y=20)\n",
    "dump = StringVar()\n",
    "ttk.OptionMenu(tk, dump,*source).place(x=20,y=60)\n",
    "stop = StringVar(tk)\n",
    "Label(tk, text='Enter destination:',font='Helvetica 16',bg='red').place(x=20,y=100)\n",
    "ttk.OptionMenu(tk,stop,*destination).place(x=20,y=140)\n",
    "Button(text='Calculate',width=12,command=calc).place(x=100,y=300)\n",
    "tk.mainloop()"
   ]
  }
 ],
 "metadata": {
  "kernelspec": {
   "display_name": "Python 3",
   "language": "python",
   "name": "python3"
  },
  "language_info": {
   "codemirror_mode": {
    "name": "ipython",
    "version": 3
   },
   "file_extension": ".py",
   "mimetype": "text/x-python",
   "name": "python",
   "nbconvert_exporter": "python",
   "pygments_lexer": "ipython3",
   "version": "3.7.4"
  }
 },
 "nbformat": 4,
 "nbformat_minor": 2
}
